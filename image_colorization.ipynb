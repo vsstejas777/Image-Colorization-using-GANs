import tensorflow as tf
from tensorflow.keras.layers import Conv2D, UpSampling2D, Input, Concatenate
from tensorflow.keras.models import Model
import numpy as np
import matplotlib.pyplot as plt
from skimage.color import rgb2lab, lab2rgb
from skimage.io import imread
from skimage.transform import resize

# 1. Load and preprocess the data
def preprocess_image(img_path):
    image = imread(img_path)
    image = resize(image, (256, 256))
    image_lab = rgb2lab(image)  # Convert RGB to LAB color space
    L_channel = image_lab[:, :, 0] / 100  # Normalize L channel
    ab_channels = image_lab[:, :, 1:] / 128  # Normalize a and b channels
    return L_channel.reshape(256, 256, 1), ab_channels.reshape(256, 256, 2)

# Example image path (replace with your image path)
L_channel, ab_channels = preprocess_image('path_to_your_image.jpg')

# 2. Build the U-Net-like model
def build_colorization_model():
    input_L = Input(shape=(256, 256, 1))

    # Encoder (Downsampling)
    x = Conv2D(64, (3, 3), activation='relu', padding='same')(input_L)
    x = Conv2D(128, (3, 3), activation='relu', padding='same', strides=2)(x)

    # Decoder (Upsampling)
    x = UpSampling2D((2, 2))(x)
    x = Conv2D(64, (3, 3), activation='relu', padding='same')(x)
    output_ab = Conv2D(2, (3, 3), activation='tanh', padding='same')(x)

    return Model(input_L, output_ab)

model = build_colorization_model()
model.compile(optimizer='adam', loss='mse')

# 3. Train the model
L_train = np.expand_dims(L_channel, axis=0)  # Expand dimensions to add batch size
ab_train = np.expand_dims(ab_channels, axis=0)
model.fit(L_train, ab_train, epochs=100, batch_size=1)

# 4. Predict and post-process
pred_ab = model.predict(L_train)[0]
pred_ab = pred_ab * 128  # Denormalize a and b channels

def postprocess_and_display(L_channel, pred_ab):
    L_channel = L_channel.squeeze() * 100  # Denormalize L channel
    pred_lab = np.concatenate((L_channel[..., np.newaxis], pred_ab), axis=-1)
    colorized_image = lab2rgb(pred_lab)

    plt.imshow(colorized_image)
    plt.axis('off')
    plt.show()

postprocess_and_display(L_channel, pred_ab)

